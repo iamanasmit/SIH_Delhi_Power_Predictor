{
 "cells": [
  {
   "cell_type": "code",
   "execution_count": 11,
   "metadata": {},
   "outputs": [],
   "source": [
    "import tabula\n",
    "import pandas as pd\n",
    "\n",
    "pdf_path = \"3 JUNE 2024.pdf\"\n",
    "\n",
    "tables = tabula.read_pdf(pdf_path, pages=21, multiple_tables=True)"
   ]
  },
  {
   "cell_type": "code",
   "execution_count": 12,
   "metadata": {},
   "outputs": [
    {
     "data": {
      "text/html": [
       "<div>\n",
       "<style scoped>\n",
       "    .dataframe tbody tr th:only-of-type {\n",
       "        vertical-align: middle;\n",
       "    }\n",
       "\n",
       "    .dataframe tbody tr th {\n",
       "        vertical-align: top;\n",
       "    }\n",
       "\n",
       "    .dataframe thead th {\n",
       "        text-align: right;\n",
       "    }\n",
       "</style>\n",
       "<table border=\"1\" class=\"dataframe\">\n",
       "  <thead>\n",
       "    <tr style=\"text-align: right;\">\n",
       "      <th></th>\n",
       "      <th>DATE</th>\n",
       "      <th>(NET\\rCONS.)</th>\n",
       "      <th>MAXI.\\rDEMAND\\rMET\\rDURING\\rTHE DAY</th>\n",
       "      <th>TIME OF\\rOCCUR-\\rRENCE OF\\rMAX\\rDEMAND</th>\n",
       "      <th>SHEDDING\\rAT THIS\\rTIME</th>\n",
       "      <th>UN-REST-\\rRICTED\\rDEMAND</th>\n",
       "      <th>MAXIMUM\\rUN-REST-\\rRICTED\\rDEMAND\\rDURING\\rTHE DAY</th>\n",
       "      <th>TIME OF\\rMAX.\\rUN-REST.\\rDEMAND</th>\n",
       "      <th>DEMAND\\rAT THAT\\rTIME</th>\n",
       "      <th>SHEDDING\\rAT THAT\\rTIME</th>\n",
       "    </tr>\n",
       "  </thead>\n",
       "  <tbody>\n",
       "    <tr>\n",
       "      <th>0</th>\n",
       "      <td>NaN</td>\n",
       "      <td>In Mus.</td>\n",
       "      <td>IN MW</td>\n",
       "      <td>IN HRS.</td>\n",
       "      <td>IN MW</td>\n",
       "      <td>IN MW</td>\n",
       "      <td>IN MW</td>\n",
       "      <td>HRS.</td>\n",
       "      <td>IN MW</td>\n",
       "      <td>IN MW</td>\n",
       "    </tr>\n",
       "    <tr>\n",
       "      <th>1</th>\n",
       "      <td>1</td>\n",
       "      <td>32</td>\n",
       "      <td>33</td>\n",
       "      <td>34</td>\n",
       "      <td>35</td>\n",
       "      <td>36=33+35</td>\n",
       "      <td>37=39+40</td>\n",
       "      <td>38</td>\n",
       "      <td>39</td>\n",
       "      <td>40</td>\n",
       "    </tr>\n",
       "    <tr>\n",
       "      <th>2</th>\n",
       "      <td>01.06.24</td>\n",
       "      <td>158.269</td>\n",
       "      <td>7926</td>\n",
       "      <td>0:01:12</td>\n",
       "      <td>0</td>\n",
       "      <td>7926</td>\n",
       "      <td>7926</td>\n",
       "      <td>0:01:12</td>\n",
       "      <td>7926</td>\n",
       "      <td>0</td>\n",
       "    </tr>\n",
       "    <tr>\n",
       "      <th>3</th>\n",
       "      <td>02.06.24</td>\n",
       "      <td>143.402</td>\n",
       "      <td>7360</td>\n",
       "      <td>23:44:09</td>\n",
       "      <td>0</td>\n",
       "      <td>7360</td>\n",
       "      <td>7360</td>\n",
       "      <td>23:44:09</td>\n",
       "      <td>7360</td>\n",
       "      <td>0</td>\n",
       "    </tr>\n",
       "    <tr>\n",
       "      <th>4</th>\n",
       "      <td>03.06.24</td>\n",
       "      <td>151.716</td>\n",
       "      <td>7915</td>\n",
       "      <td>23:19:18</td>\n",
       "      <td>0</td>\n",
       "      <td>7915</td>\n",
       "      <td>7915</td>\n",
       "      <td>23:19:18</td>\n",
       "      <td>7915</td>\n",
       "      <td>0</td>\n",
       "    </tr>\n",
       "  </tbody>\n",
       "</table>\n",
       "</div>"
      ],
      "text/plain": [
       "       DATE (NET\\rCONS.) MAXI.\\rDEMAND\\rMET\\rDURING\\rTHE DAY  \\\n",
       "0       NaN      In Mus.                               IN MW   \n",
       "1         1           32                                  33   \n",
       "2  01.06.24      158.269                                7926   \n",
       "3  02.06.24      143.402                                7360   \n",
       "4  03.06.24      151.716                                7915   \n",
       "\n",
       "  TIME OF\\rOCCUR-\\rRENCE OF\\rMAX\\rDEMAND SHEDDING\\rAT THIS\\rTIME  \\\n",
       "0                                IN HRS.                   IN MW   \n",
       "1                                     34                      35   \n",
       "2                                0:01:12                       0   \n",
       "3                               23:44:09                       0   \n",
       "4                               23:19:18                       0   \n",
       "\n",
       "  UN-REST-\\rRICTED\\rDEMAND MAXIMUM\\rUN-REST-\\rRICTED\\rDEMAND\\rDURING\\rTHE DAY  \\\n",
       "0                    IN MW                                              IN MW   \n",
       "1                 36=33+35                                           37=39+40   \n",
       "2                     7926                                               7926   \n",
       "3                     7360                                               7360   \n",
       "4                     7915                                               7915   \n",
       "\n",
       "  TIME OF\\rMAX.\\rUN-REST.\\rDEMAND DEMAND\\rAT THAT\\rTIME  \\\n",
       "0                            HRS.                 IN MW   \n",
       "1                              38                    39   \n",
       "2                         0:01:12                  7926   \n",
       "3                        23:44:09                  7360   \n",
       "4                        23:19:18                  7915   \n",
       "\n",
       "  SHEDDING\\rAT THAT\\rTIME  \n",
       "0                   IN MW  \n",
       "1                      40  \n",
       "2                       0  \n",
       "3                       0  \n",
       "4                       0  "
      ]
     },
     "execution_count": 12,
     "metadata": {},
     "output_type": "execute_result"
    }
   ],
   "source": [
    "df=pd.DataFrame(tables[0])\n",
    "df.head(5)"
   ]
  },
  {
   "cell_type": "code",
   "execution_count": 13,
   "metadata": {},
   "outputs": [],
   "source": [
    "import os"
   ]
  },
  {
   "cell_type": "code",
   "execution_count": 14,
   "metadata": {},
   "outputs": [],
   "source": [
    "pages=[20, 25, 18, 20, 18, 21, 21, 18, 18, 24, 22, 24, 31, 23, 22, 19,20, 21, 13, 20, 21, 19, 21, 20, 27, 19, 20]"
   ]
  },
  {
   "cell_type": "code",
   "execution_count": 15,
   "metadata": {},
   "outputs": [
    {
     "data": {
      "text/plain": [
       "27"
      ]
     },
     "execution_count": 15,
     "metadata": {},
     "output_type": "execute_result"
    }
   ],
   "source": [
    "len(pages)"
   ]
  },
  {
   "cell_type": "code",
   "execution_count": 16,
   "metadata": {},
   "outputs": [],
   "source": [
    "pdfs=os.listdir('data')"
   ]
  },
  {
   "cell_type": "code",
   "execution_count": 19,
   "metadata": {},
   "outputs": [
    {
     "name": "stdout",
     "output_type": "stream",
     "text": [
      "Index(['DATE', '(NET\\rCONS.)', 'MAXI.\\rDEMAND\\rMET\\rDURING\\rTHE DAY',\n",
      "       'TIME OF\\rOCCUR-\\rRENCE OF\\rMAX\\rDEMAND', 'SHEDDING\\rAT THIS\\rTIME',\n",
      "       'UN-REST-\\rRICTED\\rDEMAND',\n",
      "       'MAXIMUM\\rUN-REST-\\rRICTED\\rDEMAND\\rDURING\\rTHE DAY',\n",
      "       'TIME OF\\rMAX.\\rUN-REST.\\rDEMAND', 'DEMAND\\rAT THAT\\rTIME',\n",
      "       'SHEDDING\\rAT THAT\\rTIME'],\n",
      "      dtype='object')\n",
      "Index(['Date', 'DUE TO T&D CONSTRAINTS IN DELHI SYSTEM', 'Unnamed: 0',\n",
      "       'Unnamed: 1', 'Unnamed: 2', 'Unnamed: 3', 'Unnamed: 4', 'Unnamed: 5',\n",
      "       'Unnamed: 6', 'Unnamed: 7'],\n",
      "      dtype='object')\n",
      "Index(['Date', 'DUE TO T&D CONSTRAINTS IN DELHI SYSTEM', 'Unnamed: 0',\n",
      "       'Unnamed: 1', 'Unnamed: 2', 'Unnamed: 3', 'Unnamed: 4', 'Unnamed: 5',\n",
      "       'Unnamed: 6', 'Unnamed: 7'],\n",
      "      dtype='object')\n",
      "Index(['Date', 'DUE TO T&D CONSTRAINTS IN DELHI SYSTEM', 'Unnamed: 0',\n",
      "       'Unnamed: 1', 'Unnamed: 2', 'Unnamed: 3', 'Unnamed: 4', 'Unnamed: 5',\n",
      "       'Unnamed: 6', 'Unnamed: 7'],\n",
      "      dtype='object')\n",
      "Index(['NAME OF THE STATION', 'AVAILABILITY', 'AVAILABILI', 'ALLOCATION',\n",
      "       'ALLOCATION.1'],\n",
      "      dtype='object')\n",
      "Index(['Hrs.', 'Demand', 'Load Shedding', 'Un-Restricted Demand'], dtype='object')\n",
      "Index(['Date', 'DUE TO T&D CONSTRAINTS IN DELHI SYSTEM', 'Unnamed: 0',\n",
      "       'Unnamed: 1', 'Unnamed: 2', 'Unnamed: 3', 'Unnamed: 4', 'Unnamed: 5',\n",
      "       'Unnamed: 6', 'Unnamed: 7'],\n",
      "      dtype='object')\n",
      "Index(['Unnamed: 0', 'Unnamed: 1', 'BSES', 'TPDDL', 'NDMC', 'MES',\n",
      "       'Unnamed: 2', 'BSES.1', 'Unnamed: 3', 'TPDDL.1', 'NDMC.1',\n",
      "       'Unnamed: 4'],\n",
      "      dtype='object')\n",
      "Index(['Date', 'DUE TO T&D CONSTRAINTS IN DELHI SYSTEM', 'Unnamed: 0',\n",
      "       'Unnamed: 1', 'Unnamed: 2', 'Unnamed: 3', 'Unnamed: 4', 'Unnamed: 5',\n",
      "       'Unnamed: 6', 'Unnamed: 7'],\n",
      "      dtype='object')\n",
      "Index(['Date', 'DUE TO T&D CONSTRAINTS IN DELHI SYSTEM', 'Unnamed: 0',\n",
      "       'Unnamed: 1', 'Unnamed: 2', 'Unnamed: 3', 'Unnamed: 4', 'Unnamed: 5',\n",
      "       'Unnamed: 6', 'Unnamed: 7'],\n",
      "      dtype='object')\n",
      "Index(['DATE', '(NET\\rCONS.)', 'MAXI.\\rDEMAND\\rMET\\rDURING\\rTHE DAY',\n",
      "       'TIME OF\\rOCCUR-\\rRENCE OF\\rMAX\\rDEMAND', 'SHEDDING\\rAT THIS\\rTIME',\n",
      "       'UN-REST-\\rRICTED\\rDEMAND',\n",
      "       'MAXIMUM\\rUN-REST-\\rRICTED\\rDEMAND\\rDURING\\rTHE DAY',\n",
      "       'TIME OF\\rMAX.\\rUN-REST.\\rDEMAND', 'DEMAND\\rAT THAT\\rTIME',\n",
      "       'SHEDDING\\rAT THAT\\rTIME'],\n",
      "      dtype='object')\n",
      "Index(['DATE', '(NET\\rCONS.)', 'MAXI.\\rDEMAND\\rMET\\rDURING\\rTHE DAY',\n",
      "       'TIME OF\\rOCCUR-\\rRENCE OF\\rMAX\\rDEMAND', 'SHEDDING\\rAT THIS\\rTIME',\n",
      "       'UN-REST-\\rRICTED\\rDEMAND',\n",
      "       'MAXIMUM\\rUN-REST-\\rRICTED\\rDEMAND\\rDURING\\rTHE DAY',\n",
      "       'TIME OF\\rMAX.\\rUN-REST.\\rDEMAND', 'DEMAND\\rAT THAT\\rTIME',\n",
      "       'SHEDDING\\rAT THAT\\rTIME'],\n",
      "      dtype='object')\n",
      "Index(['DATE', '(NET\\rCONS.)', 'MAXI.\\rDEMAND\\rMET\\rDURING\\rTHE DAY',\n",
      "       'TIME OF\\rOCCUR-\\rRENCE OF\\rMAX\\rDEMAND', 'SHEDDING\\rAT THIS\\rTIME',\n",
      "       'UN-REST-\\rRICTED\\rDEMAND',\n",
      "       'MAXIMUM\\rUN-REST-\\rRICTED\\rDEMAND\\rDURING\\rTHE DAY',\n",
      "       'TIME OF\\rMAX.\\rUN-REST.\\rDEMAND', 'DEMAND\\rAT THAT\\rTIME',\n",
      "       'SHEDDING\\rAT THAT\\rTIME'],\n",
      "      dtype='object')\n",
      "Index(['DATE', '(NET\\rCONS.)', 'MAXI.\\rDEMAND\\rMET\\rDURING\\rTHE DAY',\n",
      "       'TIME OF\\rOCCUR-\\rRENCE OF\\rMAX\\rDEMAND', 'SHEDDING\\rAT THIS\\rTIME',\n",
      "       'UN-REST-\\rRICTED\\rDEMAND',\n",
      "       'MAXIMUM\\rUN-REST-\\rRICTED\\rDEMAND\\rDURING\\rTHE DAY',\n",
      "       'TIME OF\\rMAX.\\rUN-REST.\\rDEMAND', 'DEMAND\\rAT THAT\\rTIME',\n",
      "       'SHEDDING\\rAT THAT\\rTIME'],\n",
      "      dtype='object')\n",
      "Index(['DATE', '(NET\\rCONS.)', 'MAXI.\\rDEMAND\\rMET\\rDURING\\rTHE DAY',\n",
      "       'TIME OF\\rOCCUR-\\rRENCE OF\\rMAX\\rDEMAND', 'SHEDDING\\rAT THIS\\rTIME',\n",
      "       'UN-REST-\\rRICTED\\rDEMAND',\n",
      "       'MAXIMUM\\rUN-REST-\\rRICTED\\rDEMAND\\rDURING\\rTHE DAY',\n",
      "       'TIME OF\\rMAX.\\rUN-REST.\\rDEMAND', 'DEMAND\\rAT THAT\\rTIME',\n",
      "       'SHEDDING\\rAT THAT\\rTIME'],\n",
      "      dtype='object')\n",
      "Index(['DATE', '(NET\\rCONS.)', 'MAXI.\\rDEMAND\\rMET\\rDURING\\rTHE DAY',\n",
      "       'TIME OF\\rOCCUR-\\rRENCE OF\\rMAX\\rDEMAND', 'SHEDDING\\rAT THIS\\rTIME',\n",
      "       'UN-REST-\\rRICTED\\rDEMAND',\n",
      "       'MAXIMUM\\rUN-REST-\\rRICTED\\rDEMAND\\rDURING\\rTHE DAY',\n",
      "       'TIME OF\\rMAX.\\rUN-REST.\\rDEMAND', 'DEMAND\\rAT THAT\\rTIME',\n",
      "       'SHEDDING\\rAT THAT\\rTIME'],\n",
      "      dtype='object')\n",
      "Index(['DATE', '(NET\\rCONS.)', 'MAXI.\\rDEMAND\\rMET\\rDURING\\rTHE DAY',\n",
      "       'TIME OF\\rOCCUR-\\rRENCE OF\\rMAX\\rDEMAND', 'SHEDDING\\rAT THIS\\rTIME',\n",
      "       'UN-REST-\\rRICTED\\rDEMAND',\n",
      "       'MAXIMUM\\rUN-REST-\\rRICTED\\rDEMAND\\rDURING\\rTHE DAY',\n",
      "       'TIME OF\\rMAX.\\rUN-REST.\\rDEMAND', 'DEMAND\\rAT THAT\\rTIME',\n",
      "       'SHEDDING\\rAT THAT\\rTIME'],\n",
      "      dtype='object')\n",
      "Index(['DATE', '(NET\\rCONS.)', 'MAXI.\\rDEMAND\\rMET\\rDURING\\rTHE DAY',\n",
      "       'TIME OF\\rOCCUR-\\rRENCE OF\\rMAX\\rDEMAND', 'SHEDDING\\rAT THIS\\rTIME',\n",
      "       'UN-REST-\\rRICTED\\rDEMAND',\n",
      "       'MAXIMUM\\rUN-REST-\\rRICTED\\rDEMAND\\rDURING\\rTHE DAY',\n",
      "       'TIME OF\\rMAX.\\rUN-REST.\\rDEMAND', 'DEMAND\\rAT THAT\\rTIME',\n",
      "       'SHEDDING\\rAT THAT\\rTIME'],\n",
      "      dtype='object')\n",
      "Index(['DaTimeofGeneration within DelhiImportSchedulOD(-DemanShedUn-\\rtepeakfrome from) /d metdingRestrict\\rdemandthetheUD(+ed\\rGTPPCBawaTOWMEDWDMSTWETotalGridGrid)Deman\\rLnaCLPCLWLPLd\\r(1)(2)(3)(4)(5)(6)(7)(8)(9) =(10)(11)(12)=(13)=(14)(15)=\\r(3) to(11) -(11)+(13)+\\r(8)(10)(12)(14)\\r118.01.55380306164603703354332331372403724\\r218.03.373802961811703703419336950378903789\\r318.03.3238030811417037834063460-54378403784\\r411.02.4738027814017113583563349073392103921\\r518.04.183803041411803753312329319368703687\\r611.58.083702771961503543162309369351603516\\r710.06.34380283195181037333613247114373403734\\r818.43.42380282190181237035713324247394103941\\r917.53.2140030617518103963367333235376303763\\r1018.00.5039029019518938035353367168391503915\\r1118.01.26390273120171735834733352121383103831\\r1211.00.1939027113017123523148308365350003500\\r1311.27.18390273130171135330593072-13341203412\\r1410.30.2740027119017535232523308-56360403604\\r1510.01.07390273180191035932303280-50358903589\\r1610.31.19390271202172036932713372-101364003640\\r1710.00.31390272194181336532193070149358403584\\r1810.06.04390274170181135934823322160384103841\\r1910.22.2839027319001134232003096104354203542\\r2011.01.2139027017417103573221316556357803578\\r2110.19.5639027019-151234432713281-10361503615\\r2210.00.5439-12731309113443286324640363003630\\r2309.56.0639-1273192-11134233023368-66364403644\\r2410.23.443902711820103403438342513377803778\\r2510.26.453902681350432934173206211374603746\\r2610.26.453902681350432934173206211374603746\\r2710.41.523903461950-140832753316-41368303683\\r2810.01.2039027120601334933433389-46369203692\\r2910.46.4939027218401234533253386-61367003670\\r3010.25.2339027013401133734753541-66381203812\\r7SOURCEWISE SCHEDULED DRAWL FROM NORTHERN GRID AS WELL AS\\rAVAILABILITY WITHIN DELHI FOR NOVEMBER 2022\\r13',\n",
      "       'Unnamed: 0', 'Unnamed: 1', 'Unnamed: 2', 'Unnamed: 3', 'Unnamed: 4',\n",
      "       'Unnamed: 5', 'Unnamed: 6', 'Unnamed: 7', 'Unnamed: 8', 'Unnamed: 9',\n",
      "       'Unnamed: 10', 'Unnamed: 11', 'Unnamed: 12', 'Unnamed: 13',\n",
      "       'Unnamed: 14'],\n",
      "      dtype='object')\n",
      "Index(['DATE', '(NET\\rCONS.)', 'MAXI.\\rDEMAND\\rMET\\rDURING\\rTHE DAY',\n",
      "       'TIME OF\\rOCCUR-\\rRENCE OF\\rMAX\\rDEMAND', 'SHEDDING\\rAT THIS\\rTIME',\n",
      "       'UN-REST-\\rRICTED\\rDEMAND',\n",
      "       'MAXIMUM\\rUN-REST-\\rRICTED\\rDEMAND\\rDURING\\rTHE DAY',\n",
      "       'TIME OF\\rMAX.\\rUN-REST.\\rDEMAND', 'DEMAND\\rAT THAT\\rTIME',\n",
      "       'SHEDDING\\rAT THAT\\rTIME'],\n",
      "      dtype='object')\n",
      "Index(['DATE', '(NET\\rCONS.)', 'MAXI.\\rDEMAND\\rMET\\rDURING\\rTHE DAY',\n",
      "       'TIME OF\\rOCCUR-\\rRENCE OF\\rMAX\\rDEMAND', 'SHEDDING\\rAT THIS\\rTIME',\n",
      "       'UN-REST-\\rRICTED\\rDEMAND',\n",
      "       'MAXIMUM\\rUN-REST-\\rRICTED\\rDEMAND\\rDURING\\rTHE DAY',\n",
      "       'TIME OF\\rMAX.\\rUN-REST.\\rDEMAND', 'DEMAND\\rAT THAT\\rTIME',\n",
      "       'SHEDDING\\rAT THAT\\rTIME'],\n",
      "      dtype='object')\n",
      "Index(['DATE', '(NET\\rCONS.)', 'MAXI.\\rDEMAND\\rMET\\rDURING\\rTHE DAY',\n",
      "       'TIME OF\\rOCCUR-\\rRENCE OF\\rMAX\\rDEMAND', 'SHEDDING\\rAT THIS\\rTIME',\n",
      "       'UN-REST-\\rRICTED\\rDEMAND',\n",
      "       'MAXIMUM\\rUN-REST-\\rRICTED\\rDEMAND\\rDURING\\rTHE DAY',\n",
      "       'TIME OF\\rMAX.\\rUN-REST.\\rDEMAND', 'DEMAND\\rAT THAT\\rTIME',\n",
      "       'SHEDDING\\rAT THAT\\rTIME'],\n",
      "      dtype='object')\n",
      "Index(['68.358\\rDATE(NETMAXI.TIME OFSHEDDINGUN-REST-MAXIMUMTIME OFDEMANSHEDDIN\\rCONS.)DEMANDOCCUR-AT THISRICTEDUN-REST-MAX.D ATG AT\\rMETRENCE OFTIMEDEMANDRICTEDUN-REST.THATTHAT\\rDURINGMAXDEMANDDEMANDTIMETIME\\rTHE DAYDEMANDDURING\\rTHE DAY\\rIn Mus.IN MWIN HRS.IN MWIN MWIN MWHRS.IN MWIN MW\\r1\\r3233343536=33+3537=39+40383940\\r10:02:3\\r01.03.23377610:02:3103776377637760\\r68.3581\\r02.03.2338069:50:390380638069:50:3938060\\r69.945\\r10:29:2\\r03.03.23397910:29:2903979397939790\\r70.4619\\r10:44:3\\r04.03.23361710:44:3903617361736170\\r67.8299\\r10:45:0\\r05.03.23350910:45:0703509350935090\\r64.8457\\r10:27:2\\r06.03.23365310:27:2903653365336530\\r689.123\\r10:09:2\\r07.03.23365610:09:2503656365636560\\r66.3475\\r08.03.2325069:04:560250625069:04:5625060\\r51.114\\r11:04:0\\r09.03.23326611:04:0803266326632660\\r60.8938\\r11:01:3\\r10.03.23362411:01:3603624362436240\\r68.0676\\r10:51:3\\r11.03.23341910:51:3503419341934190\\r67 5555.\\r10:53:4\\r12.03.23342410:53:4603424342434240\\r656.472\\r11:31:2\\r13.03.23374211:31:2603742374237420\\r706.457\\r10:58:4\\r14.03.23377510:58:4003775377537750\\r74.2830\\r10:59:3\\r15.03.23375610:59:3603756375637560\\r75 0376.\\r11:23:5\\r16.03.23391611:23:5603916391639160\\r766.708\\r10:54:0\\r17.03.23392610:54:0303926392639260\\r76.7183\\r10:28:3\\r18.03.23358710:28:3903587358735870\\r68.159\\r10:41:1\\r19.03.23346810:41:1003468346834680\\r64.9710\\r20.03.2337169:52:250371637169:52:2537160\\r67.757\\r10:35:2\\r21.03.23368210:35:2003682368236820\\r66 5770.\\r22.03.2339159:47:160391539159:47:1639150\\r69.119\\r23.03.2336939:51:140369336939:51:1436930\\r70.173\\r24.03.2338499:51:240384938499:51:2438490\\r71.53\\r10:31:1\\r25.03.23353210:31:1003532353235320\\r670.622\\r10:11:1\\r26.03.23341510:11:1503415341534150\\r64.2855\\r27.03.2337499:35:260374937499:35:2637490\\r71.999\\r10:16:5\\r28.03.23370810:16:5003708370837080\\r72 710.\\r10:31:5\\r29.03.23373810:31:5003738373837380\\r73 940.\\r10:46:1\\r30.03.23353410:46:1203534353435340\\r702.388\\r21',\n",
      "       'Unnamed: 0', 'Unnamed: 1', 'Unnamed: 2', 'Unnamed: 3', 'Unnamed: 4',\n",
      "       'Unnamed: 5', 'Unnamed: 6', 'Unnamed: 7', 'Unnamed: 8'],\n",
      "      dtype='object')\n",
      "Index(['DATE', '(NET\\rCONS.)', 'MAXI.\\rDEMAND\\rMET\\rDURING\\rTHE DAY',\n",
      "       'TIME OF\\rOCCUR-\\rRENCE OF\\rMAX\\rDEMAND', 'SHEDDING\\rAT THIS\\rTIME',\n",
      "       'UN-REST-\\rRICTED\\rDEMAND',\n",
      "       'MAXIMUM\\rUN-REST-\\rRICTED\\rDEMAND\\rDURING\\rTHE DAY',\n",
      "       'TIME OF\\rMAX.\\rUN-REST.\\rDEMAND', 'DEMAND\\rAT THAT\\rTIME',\n",
      "       'SHEDDING\\rAT THAT\\rTIME'],\n",
      "      dtype='object')\n",
      "Index(['DATE', '(NET\\rCONS.)', 'MAXI.\\rDEMAND\\rMET\\rDURING\\rTHE DAY',\n",
      "       'TIME OF\\rOCCUR-\\rRENCE OF\\rMAX\\rDEMAND', 'SHEDDING\\rAT THIS\\rTIME',\n",
      "       'UN-REST-\\rRICTED\\rDEMAND',\n",
      "       'MAXIMUM\\rUN-REST-\\rRICTED\\rDEMAND\\rDURING\\rTHE DAY',\n",
      "       'TIME OF\\rMAX.\\rUN-REST.\\rDEMAND', 'DEMAND\\rAT THAT\\rTIME',\n",
      "       'SHEDDING\\rAT THAT\\rTIME'],\n",
      "      dtype='object')\n",
      "Index(['DATE', '(NET\\rCONS.)', 'MAXI.\\rDEMAND\\rMET\\rDURING\\rTHE DAY',\n",
      "       'TIME OF\\rOCCUR-\\rRENCE OF\\rMAX\\rDEMAND', 'SHEDDING\\rAT THIS\\rTIME',\n",
      "       'UN-REST-\\rRICTED\\rDEMAND',\n",
      "       'MAXIMUM\\rUN-REST-\\rRICTED\\rDEMAND\\rDURING\\rTHE DAY',\n",
      "       'TIME OF\\rMAX.\\rUN-REST.\\rDEMAND', 'DEMAND\\rAT THAT\\rTIME',\n",
      "       'SHEDDING\\rAT THAT\\rTIME'],\n",
      "      dtype='object')\n",
      "Index(['DATE', '(NET\\rCONS.)', 'MAXI.\\rDEMAND\\rMET\\rDURING\\rTHE DAY',\n",
      "       'TIME OF\\rOCCUR-\\rRENCE OF\\rMAX\\rDEMAND', 'SHEDDING\\rAT THIS\\rTIME',\n",
      "       'UN-REST-\\rRICTED\\rDEMAND',\n",
      "       'MAXIMUM\\rUN-REST-\\rRICTED\\rDEMAND\\rDURING\\rTHE DAY',\n",
      "       'TIME OF\\rMAX.\\rUN-REST.\\rDEMAND', 'DEMAND\\rAT THAT\\rTIME',\n",
      "       'SHEDDING\\rAT THAT\\rTIME'],\n",
      "      dtype='object')\n"
     ]
    }
   ],
   "source": [
    "for i in range(len(pages)):\n",
    "    pdf_path=os.path.join('data', pdfs[i])\n",
    "    tables = tabula.read_pdf(pdf_path, pages=pages[i], multiple_tables=True)\n",
    "    df=pd.DataFrame(tables[0])\n",
    "    print(df.columns)"
   ]
  },
  {
   "cell_type": "code",
   "execution_count": 20,
   "metadata": {},
   "outputs": [],
   "source": [
    "pgs=[20, 27, 20, 22, 20, 23, 23, 19, 20, 26, 22, 24, 31, 23, 22, 19, 20, 21, 20, 20, 21, 19, 21, 20, 27, 19, 16]"
   ]
  },
  {
   "cell_type": "code",
   "execution_count": 23,
   "metadata": {},
   "outputs": [],
   "source": [
    "df_full=pd.DataFrame()"
   ]
  },
  {
   "cell_type": "code",
   "execution_count": 29,
   "metadata": {},
   "outputs": [],
   "source": [
    "for i in range(len(pages)):\n",
    "    pdf_path=os.path.join('data', pdfs[i])\n",
    "    tables = tabula.read_pdf(pdf_path, pages=pgs[i], multiple_tables=True)\n",
    "    df=pd.DataFrame(tables[0])\n",
    "    try:\n",
    "        df.to_csv(os.path.join('data', f'{pdfs[i]}.csv'))\n",
    "    except:\n",
    "        print(f'can not export {pdfs[i]}')"
   ]
  },
  {
   "cell_type": "code",
   "execution_count": 32,
   "metadata": {},
   "outputs": [],
   "source": [
    "pdfs23=os.listdir('23data')"
   ]
  },
  {
   "cell_type": "code",
   "execution_count": 33,
   "metadata": {},
   "outputs": [],
   "source": [
    "pages23=[19, 13, 21, 20, 20, 20, 20]"
   ]
  },
  {
   "cell_type": "code",
   "execution_count": 34,
   "metadata": {},
   "outputs": [],
   "source": [
    "for i in range(len(pages23)):\n",
    "    pdf_path=os.path.join('23data', pdfs23[i])\n",
    "    tables = tabula.read_pdf(pdf_path, pages=pages23[i], multiple_tables=True)\n",
    "    df=pd.DataFrame(tables[0])\n",
    "    try:\n",
    "        df.to_csv(os.path.join('data', f'{pdfs23[i]}.csv'))\n",
    "    except:\n",
    "        print(f'can not export {pdfs[i]}')"
   ]
  },
  {
   "cell_type": "code",
   "execution_count": 35,
   "metadata": {},
   "outputs": [
    {
     "name": "stdout",
     "output_type": "stream",
     "text": [
      "['april 2022.pdf', 'Aug 2022.pdf', 'Dec 2022.pdf', 'february 2022.pdf', 'january 2022.pdf', 'july 2022.pdf', 'JUNE 2022.pdf', 'march 2022.pdf']\n"
     ]
    }
   ],
   "source": [
    "pdfs22=os.listdir('22data')\n",
    "print(pdfs22)"
   ]
  },
  {
   "cell_type": "code",
   "execution_count": 36,
   "metadata": {},
   "outputs": [],
   "source": [
    "pages22=[19, 19, 19, 19, 19, 19, 19, 18]"
   ]
  },
  {
   "cell_type": "code",
   "execution_count": 40,
   "metadata": {},
   "outputs": [
    {
     "name": "stdout",
     "output_type": "stream",
     "text": [
      "['1 april 2021.pdf', '10 JANUARY 2021 2.pdf', '11 FEBRUARY 2021.pdf', '12 MARCH 2021.pdf', '2 MAY 2021.pdf', '3 JUNE 2021.pdf', '5 AUGUST 2021.pdf', '6 SEPTEMBER 2021 (1).pdf', '7 OCTOBER 2021.pdf', '9. NOVEMBER 2021.pdf', 'december 2021.pdf']\n"
     ]
    }
   ],
   "source": [
    "pdfs21=os.listdir('21data')\n",
    "print(pdfs21)"
   ]
  },
  {
   "cell_type": "code",
   "execution_count": 41,
   "metadata": {},
   "outputs": [],
   "source": [
    "pages21=[22, 22, 22, 23, 23, 33, 25, 26, 27, 28, 23]"
   ]
  },
  {
   "cell_type": "code",
   "execution_count": 42,
   "metadata": {},
   "outputs": [
    {
     "name": "stdout",
     "output_type": "stream",
     "text": [
      "['1 april 2021.pdf', '10 JANUARY 2021 2.pdf', '11 FEBRUARY 2021.pdf', '12 MARCH 2021.pdf', '2 MAY 2021.pdf', '3 JUNE 2021.pdf', '5 AUGUST 2021.pdf', '6 SEPTEMBER 2021 (1).pdf', '7 OCTOBER 2021.pdf', '9. NOVEMBER 2021.pdf', 'december 2021.pdf']\n"
     ]
    }
   ],
   "source": [
    "pdfs21=os.listdir('21data')\n",
    "print(pdfs21)"
   ]
  },
  {
   "cell_type": "code",
   "execution_count": 43,
   "metadata": {},
   "outputs": [],
   "source": [
    "for i in range(len(pages21)):\n",
    "    pdf_path=os.path.join('21data', pdfs21[i])\n",
    "    tables = tabula.read_pdf(pdf_path, pages=pages21[i], multiple_tables=True)\n",
    "    df=pd.DataFrame(tables[0])\n",
    "    try:\n",
    "        df.to_csv(os.path.join('data', f'{pdfs21[i]}.csv'))\n",
    "    except:\n",
    "        print(f'can not export {pdfs[i]}')"
   ]
  },
  {
   "cell_type": "code",
   "execution_count": null,
   "metadata": {},
   "outputs": [],
   "source": []
  }
 ],
 "metadata": {
  "kernelspec": {
   "display_name": "Python 3",
   "language": "python",
   "name": "python3"
  },
  "language_info": {
   "codemirror_mode": {
    "name": "ipython",
    "version": 3
   },
   "file_extension": ".py",
   "mimetype": "text/x-python",
   "name": "python",
   "nbconvert_exporter": "python",
   "pygments_lexer": "ipython3",
   "version": "3.12.1"
  }
 },
 "nbformat": 4,
 "nbformat_minor": 2
}
