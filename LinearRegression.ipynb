{
 "cells": [
  {
   "cell_type": "code",
   "execution_count": 13,
   "metadata": {},
   "outputs": [
    {
     "name": "stderr",
     "output_type": "stream",
     "text": [
      "C:\\Users\\anasm\\AppData\\Local\\Temp\\ipykernel_21688\\2690872644.py:4: DtypeWarning: Columns (2,3,4,5,6,7) have mixed types. Specify dtype option on import or set low_memory=False.\n",
      "  df=pd.read_csv('dataset.txt', sep=';')\n",
      "C:\\Users\\anasm\\AppData\\Local\\Temp\\ipykernel_21688\\2690872644.py:11: UserWarning: Could not infer format, so each element will be parsed individually, falling back to `dateutil`. To ensure parsing is consistent and as-expected, please specify a format.\n",
      "  df[\"Time\"] = pd.to_datetime(df[\"Time\"])\n"
     ]
    },
    {
     "name": "stdout",
     "output_type": "stream",
     "text": [
      "Date                datetime64[ns]\n",
      "Time                datetime64[ns]\n",
      "Voltage                    float64\n",
      "Global_intensity           float64\n",
      "Sub_metering_1             float64\n",
      "Sub_metering_2             float64\n",
      "Sub_metering_3             float64\n",
      "Total Power                float64\n",
      "dtype: object\n"
     ]
    }
   ],
   "source": [
    "import pandas as pd\n",
    "import numpy as np\n",
    "\n",
    "df=pd.read_csv('dataset.txt', sep=';')\n",
    "#df.head()\n",
    "df=df.replace('?',np.nan)\n",
    "\n",
    "\n",
    "# converting columns to their respective data types\n",
    "df['Date'] = df['Date'].astype('datetime64[ns]')\n",
    "df[\"Time\"] = pd.to_datetime(df[\"Time\"])\n",
    "\n",
    "df = df.astype({\"Global_active_power\": float, \"Global_reactive_power\": float, \"Voltage\": float, \"Global_intensity\": float, \"Sub_metering_1\": float, \"Sub_metering_2\": float, \"Sub_metering_3\":float})\n",
    "\n",
    "df['Total Power']=df['Global_active_power']+df[\"Global_reactive_power\"]\n",
    "df=df.drop(['Global_active_power', 'Global_reactive_power'], axis=1)\n",
    "\n",
    "df2=df.drop(['Time', 'Date'], axis=1)\n",
    "print(df.dtypes)\n",
    "\n",
    "df=df.dropna()\n",
    "x=np.array(df.drop(['Total Power','Date', 'Time'], axis=1 ))\n",
    "\n",
    "y=np.array(df['Total Power'])\n",
    "\n",
    "from sklearn.model_selection import train_test_split\n",
    "\n",
    "X_train, X_test, y_train, y_test = train_test_split(x, y, test_size=0.2, random_state=42)\n",
    "\n",
    "from sklearn.preprocessing import StandardScaler\n",
    "\n",
    "scaler = StandardScaler()\n",
    "x_train_scaled = scaler.fit_transform(X_train)\n",
    "x_test_scaled = scaler.transform(X_test)"
   ]
  },
  {
   "cell_type": "code",
   "execution_count": 14,
   "metadata": {},
   "outputs": [],
   "source": [
    "from sklearn.neighbors import KNeighborsRegressor"
   ]
  },
  {
   "cell_type": "code",
   "execution_count": 15,
   "metadata": {},
   "outputs": [],
   "source": [
    "from sklearn.metrics import mean_squared_error"
   ]
  },
  {
   "cell_type": "code",
   "execution_count": 16,
   "metadata": {},
   "outputs": [],
   "source": [
    "knn_regressor = KNeighborsRegressor(n_neighbors=10, weights='distance')\n",
    "knn_regressor.fit(x_train_scaled, y_train)\n",
    "y_pred = knn_regressor.predict(x_test_scaled)\n"
   ]
  },
  {
   "cell_type": "code",
   "execution_count": 19,
   "metadata": {},
   "outputs": [
    {
     "name": "stdout",
     "output_type": "stream",
     "text": [
      "1639424 409856 1639424 409856 1639424\n"
     ]
    }
   ],
   "source": [
    "print(len(x_train_scaled), len(x_test_scaled), len(y_train), len(y_test), len(y_pred))"
   ]
  },
  {
   "cell_type": "code",
   "execution_count": 20,
   "metadata": {},
   "outputs": [
    {
     "data": {
      "text/plain": [
       "0.0026712348610057708"
      ]
     },
     "execution_count": 20,
     "metadata": {},
     "output_type": "execute_result"
    }
   ],
   "source": [
    "mean_squared_error(y_train, y_pred)"
   ]
  },
  {
   "cell_type": "code",
   "execution_count": null,
   "metadata": {},
   "outputs": [],
   "source": []
  }
 ],
 "metadata": {
  "kernelspec": {
   "display_name": "Python 3",
   "language": "python",
   "name": "python3"
  },
  "language_info": {
   "codemirror_mode": {
    "name": "ipython",
    "version": 3
   },
   "file_extension": ".py",
   "mimetype": "text/x-python",
   "name": "python",
   "nbconvert_exporter": "python",
   "pygments_lexer": "ipython3",
   "version": "3.12.1"
  }
 },
 "nbformat": 4,
 "nbformat_minor": 2
}
