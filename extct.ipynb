{
 "cells": [
  {
   "cell_type": "code",
   "execution_count": 1,
   "metadata": {},
   "outputs": [],
   "source": [
    "import pickle\n",
    "import pandas"
   ]
  },
  {
   "cell_type": "code",
   "execution_count": 2,
   "metadata": {},
   "outputs": [],
   "source": [
    "with open('dataframe.pkl', 'rb') as f:\n",
    "    df=pickle.load(f)"
   ]
  },
  {
   "cell_type": "code",
   "execution_count": 3,
   "metadata": {},
   "outputs": [
    {
     "data": {
      "text/html": [
       "<div>\n",
       "<style scoped>\n",
       "    .dataframe tbody tr th:only-of-type {\n",
       "        vertical-align: middle;\n",
       "    }\n",
       "\n",
       "    .dataframe tbody tr th {\n",
       "        vertical-align: top;\n",
       "    }\n",
       "\n",
       "    .dataframe thead th {\n",
       "        text-align: right;\n",
       "    }\n",
       "</style>\n",
       "<table border=\"1\" class=\"dataframe\">\n",
       "  <thead>\n",
       "    <tr style=\"text-align: right;\">\n",
       "      <th></th>\n",
       "      <th>DATE</th>\n",
       "      <th>NET CON. (In Mus.)</th>\n",
       "      <th>MAXI. DEMAND MET DURING THE DAY (IN MW)</th>\n",
       "      <th>TIME OF OCCURRENCE OF MAX DEMAND (IN HRS.)</th>\n",
       "      <th>SHEDDING AT THIS TIME (IN MW)</th>\n",
       "      <th>UN-RESTRICTED DEMAND (IN MW)</th>\n",
       "      <th>MAXIMUM UN-RESTRICTED DEMAND DURING THE DAY (IN MW)</th>\n",
       "      <th>TIME OF MAX. UN-REST. DEMAND (Hrs)</th>\n",
       "      <th>DEMAND AT THAT TIME (IN MW)</th>\n",
       "      <th>SHEDDING AT THAT TIME (IN MW)</th>\n",
       "    </tr>\n",
       "  </thead>\n",
       "  <tbody>\n",
       "    <tr>\n",
       "      <th>0</th>\n",
       "      <td>01-04-2021</td>\n",
       "      <td>72.325</td>\n",
       "      <td>3549</td>\n",
       "      <td>12:03:17</td>\n",
       "      <td>0.0</td>\n",
       "      <td>3549.0</td>\n",
       "      <td>3549.0</td>\n",
       "      <td>12:03:17</td>\n",
       "      <td>3549</td>\n",
       "      <td>0.0</td>\n",
       "    </tr>\n",
       "    <tr>\n",
       "      <th>1</th>\n",
       "      <td>02-04-2021</td>\n",
       "      <td>u</td>\n",
       "      <td>3508</td>\n",
       "      <td>11:58:02</td>\n",
       "      <td>0.0</td>\n",
       "      <td>3508.0</td>\n",
       "      <td>3508.0</td>\n",
       "      <td>11:58:02</td>\n",
       "      <td>3508</td>\n",
       "      <td>0.0</td>\n",
       "    </tr>\n",
       "    <tr>\n",
       "      <th>2</th>\n",
       "      <td>03-04-2021</td>\n",
       "      <td>69.366</td>\n",
       "      <td>3383</td>\n",
       "      <td>19:07:11</td>\n",
       "      <td>0.0</td>\n",
       "      <td>3383.0</td>\n",
       "      <td>3383.0</td>\n",
       "      <td>19:07:11</td>\n",
       "      <td>3383</td>\n",
       "      <td>0.0</td>\n",
       "    </tr>\n",
       "    <tr>\n",
       "      <th>3</th>\n",
       "      <td>04-04-2021</td>\n",
       "      <td>67.975</td>\n",
       "      <td>3292</td>\n",
       "      <td>19:25:01</td>\n",
       "      <td>0.0</td>\n",
       "      <td>3292.0</td>\n",
       "      <td>3292.0</td>\n",
       "      <td>19:25:01</td>\n",
       "      <td>3292</td>\n",
       "      <td>0.0</td>\n",
       "    </tr>\n",
       "    <tr>\n",
       "      <th>4</th>\n",
       "      <td>05-04-2021</td>\n",
       "      <td>81.584</td>\n",
       "      <td>3735</td>\n",
       "      <td>12:30</td>\n",
       "      <td>0.0</td>\n",
       "      <td>3735.0</td>\n",
       "      <td>3735.0</td>\n",
       "      <td>12:30</td>\n",
       "      <td>3735</td>\n",
       "      <td>0.0</td>\n",
       "    </tr>\n",
       "  </tbody>\n",
       "</table>\n",
       "</div>"
      ],
      "text/plain": [
       "         DATE NET CON. (In Mus.)  MAXI. DEMAND MET DURING THE DAY (IN MW)  \\\n",
       "0  01-04-2021             72.325                                     3549   \n",
       "1  02-04-2021                  u                                     3508   \n",
       "2  03-04-2021             69.366                                     3383   \n",
       "3  04-04-2021             67.975                                     3292   \n",
       "4  05-04-2021             81.584                                     3735   \n",
       "\n",
       "  TIME OF OCCURRENCE OF MAX DEMAND (IN HRS.)  SHEDDING AT THIS TIME (IN MW)  \\\n",
       "0                                   12:03:17                            0.0   \n",
       "1                                   11:58:02                            0.0   \n",
       "2                                   19:07:11                            0.0   \n",
       "3                                   19:25:01                            0.0   \n",
       "4                                      12:30                            0.0   \n",
       "\n",
       "   UN-RESTRICTED DEMAND (IN MW)  \\\n",
       "0                        3549.0   \n",
       "1                        3508.0   \n",
       "2                        3383.0   \n",
       "3                        3292.0   \n",
       "4                        3735.0   \n",
       "\n",
       "   MAXIMUM UN-RESTRICTED DEMAND DURING THE DAY (IN MW)  \\\n",
       "0                                             3549.0     \n",
       "1                                             3508.0     \n",
       "2                                             3383.0     \n",
       "3                                             3292.0     \n",
       "4                                             3735.0     \n",
       "\n",
       "  TIME OF MAX. UN-REST. DEMAND (Hrs)  DEMAND AT THAT TIME (IN MW)  \\\n",
       "0                           12:03:17                         3549   \n",
       "1                           11:58:02                         3508   \n",
       "2                           19:07:11                         3383   \n",
       "3                           19:25:01                         3292   \n",
       "4                              12:30                         3735   \n",
       "\n",
       "   SHEDDING AT THAT TIME (IN MW)  \n",
       "0                            0.0  \n",
       "1                            0.0  \n",
       "2                            0.0  \n",
       "3                            0.0  \n",
       "4                            0.0  "
      ]
     },
     "execution_count": 3,
     "metadata": {},
     "output_type": "execute_result"
    }
   ],
   "source": [
    "df.head()"
   ]
  },
  {
   "cell_type": "code",
   "execution_count": 5,
   "metadata": {},
   "outputs": [
    {
     "data": {
      "text/plain": [
       "DATE                                                    object\n",
       "NET CON. (In Mus.)                                      object\n",
       "MAXI. DEMAND MET DURING THE DAY (IN MW)                  int64\n",
       "TIME OF OCCURRENCE OF MAX DEMAND (IN HRS.)              object\n",
       "SHEDDING AT THIS TIME (IN MW)                          float64\n",
       "UN-RESTRICTED DEMAND (IN MW)                           float64\n",
       "MAXIMUM UN-RESTRICTED DEMAND DURING THE DAY (IN MW)    float64\n",
       "TIME OF MAX. UN-REST. DEMAND (Hrs)                      object\n",
       "DEMAND AT THAT TIME (IN MW)                              int64\n",
       "SHEDDING AT THAT TIME (IN MW)                          float64\n",
       "dtype: object"
      ]
     },
     "execution_count": 5,
     "metadata": {},
     "output_type": "execute_result"
    }
   ],
   "source": [
    "df.dtypes"
   ]
  },
  {
   "cell_type": "code",
   "execution_count": null,
   "metadata": {},
   "outputs": [],
   "source": []
  }
 ],
 "metadata": {
  "kernelspec": {
   "display_name": "Python 3",
   "language": "python",
   "name": "python3"
  },
  "language_info": {
   "codemirror_mode": {
    "name": "ipython",
    "version": 3
   },
   "file_extension": ".py",
   "mimetype": "text/x-python",
   "name": "python",
   "nbconvert_exporter": "python",
   "pygments_lexer": "ipython3",
   "version": "3.12.1"
  }
 },
 "nbformat": 4,
 "nbformat_minor": 2
}
