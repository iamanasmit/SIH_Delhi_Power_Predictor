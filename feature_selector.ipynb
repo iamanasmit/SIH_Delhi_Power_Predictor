{
 "cells": [
  {
   "cell_type": "code",
   "execution_count": 39,
   "metadata": {},
   "outputs": [],
   "source": [
    "import pandas as pd"
   ]
  },
  {
   "cell_type": "code",
   "execution_count": 40,
   "metadata": {},
   "outputs": [
    {
     "data": {
      "text/html": [
       "<div>\n",
       "<style scoped>\n",
       "    .dataframe tbody tr th:only-of-type {\n",
       "        vertical-align: middle;\n",
       "    }\n",
       "\n",
       "    .dataframe tbody tr th {\n",
       "        vertical-align: top;\n",
       "    }\n",
       "\n",
       "    .dataframe thead th {\n",
       "        text-align: right;\n",
       "    }\n",
       "</style>\n",
       "<table border=\"1\" class=\"dataframe\">\n",
       "  <thead>\n",
       "    <tr style=\"text-align: right;\">\n",
       "      <th></th>\n",
       "      <th>datetime</th>\n",
       "      <th>temp</th>\n",
       "      <th>feelslike</th>\n",
       "      <th>dew</th>\n",
       "      <th>humidity</th>\n",
       "      <th>precip</th>\n",
       "      <th>windspeed</th>\n",
       "      <th>winddir</th>\n",
       "      <th>sealevelpressure</th>\n",
       "      <th>visibility</th>\n",
       "      <th>solarenergy</th>\n",
       "      <th>uvindex</th>\n",
       "      <th>moonphase</th>\n",
       "    </tr>\n",
       "  </thead>\n",
       "  <tbody>\n",
       "    <tr>\n",
       "      <th>0</th>\n",
       "      <td>01-01-2021</td>\n",
       "      <td>10.2</td>\n",
       "      <td>10.2</td>\n",
       "      <td>6.2</td>\n",
       "      <td>79.2</td>\n",
       "      <td>0.000</td>\n",
       "      <td>11.2</td>\n",
       "      <td>89.0</td>\n",
       "      <td>1017.9</td>\n",
       "      <td>0.7</td>\n",
       "      <td>13.9</td>\n",
       "      <td>6</td>\n",
       "      <td>0.58</td>\n",
       "    </tr>\n",
       "    <tr>\n",
       "      <th>1</th>\n",
       "      <td>02-01-2021</td>\n",
       "      <td>13.4</td>\n",
       "      <td>13.4</td>\n",
       "      <td>9.3</td>\n",
       "      <td>77.8</td>\n",
       "      <td>0.911</td>\n",
       "      <td>16.6</td>\n",
       "      <td>92.9</td>\n",
       "      <td>1016.1</td>\n",
       "      <td>1.2</td>\n",
       "      <td>8.2</td>\n",
       "      <td>5</td>\n",
       "      <td>0.61</td>\n",
       "    </tr>\n",
       "    <tr>\n",
       "      <th>2</th>\n",
       "      <td>03-01-2021</td>\n",
       "      <td>13.9</td>\n",
       "      <td>13.9</td>\n",
       "      <td>12.2</td>\n",
       "      <td>90.1</td>\n",
       "      <td>36.462</td>\n",
       "      <td>16.6</td>\n",
       "      <td>83.2</td>\n",
       "      <td>1014.6</td>\n",
       "      <td>1.1</td>\n",
       "      <td>10.7</td>\n",
       "      <td>5</td>\n",
       "      <td>0.65</td>\n",
       "    </tr>\n",
       "    <tr>\n",
       "      <th>3</th>\n",
       "      <td>04-01-2021</td>\n",
       "      <td>16.2</td>\n",
       "      <td>16.2</td>\n",
       "      <td>15.2</td>\n",
       "      <td>94.2</td>\n",
       "      <td>5.598</td>\n",
       "      <td>18.4</td>\n",
       "      <td>350.0</td>\n",
       "      <td>1016.1</td>\n",
       "      <td>0.8</td>\n",
       "      <td>10.9</td>\n",
       "      <td>6</td>\n",
       "      <td>0.68</td>\n",
       "    </tr>\n",
       "    <tr>\n",
       "      <th>4</th>\n",
       "      <td>05-01-2021</td>\n",
       "      <td>17.1</td>\n",
       "      <td>17.1</td>\n",
       "      <td>16.0</td>\n",
       "      <td>93.8</td>\n",
       "      <td>1.280</td>\n",
       "      <td>14.8</td>\n",
       "      <td>52.2</td>\n",
       "      <td>1015.5</td>\n",
       "      <td>1.7</td>\n",
       "      <td>9.6</td>\n",
       "      <td>5</td>\n",
       "      <td>0.72</td>\n",
       "    </tr>\n",
       "  </tbody>\n",
       "</table>\n",
       "</div>"
      ],
      "text/plain": [
       "     datetime  temp  feelslike   dew  humidity  precip  windspeed  winddir  \\\n",
       "0  01-01-2021  10.2       10.2   6.2      79.2   0.000       11.2     89.0   \n",
       "1  02-01-2021  13.4       13.4   9.3      77.8   0.911       16.6     92.9   \n",
       "2  03-01-2021  13.9       13.9  12.2      90.1  36.462       16.6     83.2   \n",
       "3  04-01-2021  16.2       16.2  15.2      94.2   5.598       18.4    350.0   \n",
       "4  05-01-2021  17.1       17.1  16.0      93.8   1.280       14.8     52.2   \n",
       "\n",
       "   sealevelpressure  visibility  solarenergy  uvindex  moonphase  \n",
       "0            1017.9         0.7         13.9        6       0.58  \n",
       "1            1016.1         1.2          8.2        5       0.61  \n",
       "2            1014.6         1.1         10.7        5       0.65  \n",
       "3            1016.1         0.8         10.9        6       0.68  \n",
       "4            1015.5         1.7          9.6        5       0.72  "
      ]
     },
     "execution_count": 40,
     "metadata": {},
     "output_type": "execute_result"
    }
   ],
   "source": [
    "df=pd.read_csv('delhi weather.csv')\n",
    "df.head()"
   ]
  },
  {
   "cell_type": "code",
   "execution_count": 41,
   "metadata": {},
   "outputs": [
    {
     "data": {
      "text/plain": [
       "datetime             object\n",
       "temp                float64\n",
       "feelslike           float64\n",
       "dew                 float64\n",
       "humidity            float64\n",
       "precip              float64\n",
       "windspeed           float64\n",
       "winddir             float64\n",
       "sealevelpressure    float64\n",
       "visibility          float64\n",
       "solarenergy         float64\n",
       "uvindex               int64\n",
       "moonphase           float64\n",
       "dtype: object"
      ]
     },
     "execution_count": 41,
     "metadata": {},
     "output_type": "execute_result"
    }
   ],
   "source": [
    "df.dtypes"
   ]
  },
  {
   "cell_type": "code",
   "execution_count": 42,
   "metadata": {},
   "outputs": [
    {
     "data": {
      "text/plain": [
       "Index(['datetime', 'temp', 'feelslike', 'dew', 'humidity', 'precip',\n",
       "       'windspeed', 'winddir', 'sealevelpressure', 'visibility', 'solarenergy',\n",
       "       'uvindex', 'moonphase'],\n",
       "      dtype='object')"
      ]
     },
     "execution_count": 42,
     "metadata": {},
     "output_type": "execute_result"
    }
   ],
   "source": [
    "#columns to be dropped 'feelslike', 'feelslikemax', 'feelslikemin', snow, description, visibility, 'precipprob', 'precipcover',\n",
    "#df=df.drop(columns=['feelslike', 'feelslikemax', 'feelslikemin'], axis=1)\n",
    "df.columns"
   ]
  },
  {
   "cell_type": "code",
   "execution_count": 65,
   "metadata": {},
   "outputs": [],
   "source": [
    "df=pd.read_csv(r'delhi 2021-01-01 to 2021-12-31.csv')\n",
    "df=pd.DataFrame({\n",
    "    'datetime':df['datetime'],\n",
    "    'temp':df['temp'],\n",
    "    'feelslike':df['feelslike'],\n",
    "    'dew':df['dew'],\n",
    "    'humidity':df['humidity'],\n",
    "    'precip':df['precip'],\n",
    "    'windspeed': df['windspeed'],\n",
    "    'winddir': df['winddir'],\n",
    "    'sealevellpressure': df['sealevelpressure'],\n",
    "    'visibility': df['visibility'],\n",
    "    'solarenergy':df['solarenergy'],\n",
    "    'uvindex': df['uvindex'],\n",
    "    'moonphase': df['moonphase']\n",
    "})"
   ]
  },
  {
   "cell_type": "code",
   "execution_count": 66,
   "metadata": {},
   "outputs": [
    {
     "data": {
      "text/html": [
       "<div>\n",
       "<style scoped>\n",
       "    .dataframe tbody tr th:only-of-type {\n",
       "        vertical-align: middle;\n",
       "    }\n",
       "\n",
       "    .dataframe tbody tr th {\n",
       "        vertical-align: top;\n",
       "    }\n",
       "\n",
       "    .dataframe thead th {\n",
       "        text-align: right;\n",
       "    }\n",
       "</style>\n",
       "<table border=\"1\" class=\"dataframe\">\n",
       "  <thead>\n",
       "    <tr style=\"text-align: right;\">\n",
       "      <th></th>\n",
       "      <th>datetime</th>\n",
       "      <th>temp</th>\n",
       "      <th>feelslike</th>\n",
       "      <th>dew</th>\n",
       "      <th>humidity</th>\n",
       "      <th>precip</th>\n",
       "      <th>windspeed</th>\n",
       "      <th>winddir</th>\n",
       "      <th>sealevellpressure</th>\n",
       "      <th>visibility</th>\n",
       "      <th>solarenergy</th>\n",
       "      <th>uvindex</th>\n",
       "      <th>moonphase</th>\n",
       "    </tr>\n",
       "  </thead>\n",
       "  <tbody>\n",
       "    <tr>\n",
       "      <th>0</th>\n",
       "      <td>2021-01-01</td>\n",
       "      <td>10.2</td>\n",
       "      <td>10.2</td>\n",
       "      <td>6.2</td>\n",
       "      <td>79.2</td>\n",
       "      <td>0.000</td>\n",
       "      <td>11.2</td>\n",
       "      <td>89.0</td>\n",
       "      <td>1017.9</td>\n",
       "      <td>0.7</td>\n",
       "      <td>13.9</td>\n",
       "      <td>6</td>\n",
       "      <td>0.58</td>\n",
       "    </tr>\n",
       "    <tr>\n",
       "      <th>1</th>\n",
       "      <td>2021-01-02</td>\n",
       "      <td>13.4</td>\n",
       "      <td>13.4</td>\n",
       "      <td>9.3</td>\n",
       "      <td>77.8</td>\n",
       "      <td>0.911</td>\n",
       "      <td>16.6</td>\n",
       "      <td>92.9</td>\n",
       "      <td>1016.1</td>\n",
       "      <td>1.2</td>\n",
       "      <td>8.2</td>\n",
       "      <td>5</td>\n",
       "      <td>0.61</td>\n",
       "    </tr>\n",
       "    <tr>\n",
       "      <th>2</th>\n",
       "      <td>2021-01-03</td>\n",
       "      <td>13.9</td>\n",
       "      <td>13.9</td>\n",
       "      <td>12.2</td>\n",
       "      <td>90.1</td>\n",
       "      <td>36.462</td>\n",
       "      <td>16.6</td>\n",
       "      <td>83.2</td>\n",
       "      <td>1014.6</td>\n",
       "      <td>1.1</td>\n",
       "      <td>10.7</td>\n",
       "      <td>5</td>\n",
       "      <td>0.65</td>\n",
       "    </tr>\n",
       "  </tbody>\n",
       "</table>\n",
       "</div>"
      ],
      "text/plain": [
       "     datetime  temp  feelslike   dew  humidity  precip  windspeed  winddir  \\\n",
       "0  2021-01-01  10.2       10.2   6.2      79.2   0.000       11.2     89.0   \n",
       "1  2021-01-02  13.4       13.4   9.3      77.8   0.911       16.6     92.9   \n",
       "2  2021-01-03  13.9       13.9  12.2      90.1  36.462       16.6     83.2   \n",
       "\n",
       "   sealevellpressure  visibility  solarenergy  uvindex  moonphase  \n",
       "0             1017.9         0.7         13.9        6       0.58  \n",
       "1             1016.1         1.2          8.2        5       0.61  \n",
       "2             1014.6         1.1         10.7        5       0.65  "
      ]
     },
     "execution_count": 66,
     "metadata": {},
     "output_type": "execute_result"
    }
   ],
   "source": [
    "df.head(3)"
   ]
  },
  {
   "cell_type": "code",
   "execution_count": 67,
   "metadata": {},
   "outputs": [],
   "source": [
    "df.to_csv('selected_feature2021.csv')"
   ]
  },
  {
   "cell_type": "code",
   "execution_count": null,
   "metadata": {},
   "outputs": [],
   "source": []
  }
 ],
 "metadata": {
  "kernelspec": {
   "display_name": "Python 3",
   "language": "python",
   "name": "python3"
  },
  "language_info": {
   "codemirror_mode": {
    "name": "ipython",
    "version": 3
   },
   "file_extension": ".py",
   "mimetype": "text/x-python",
   "name": "python",
   "nbconvert_exporter": "python",
   "pygments_lexer": "ipython3",
   "version": "3.12.1"
  }
 },
 "nbformat": 4,
 "nbformat_minor": 2
}
